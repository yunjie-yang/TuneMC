{
 "cells": [
  {
   "cell_type": "code",
   "execution_count": 27,
   "metadata": {
    "collapsed": true
   },
   "outputs": [],
   "source": [
    "import json"
   ]
  },
  {
   "cell_type": "code",
   "execution_count": 28,
   "metadata": {
    "collapsed": false
   },
   "outputs": [],
   "source": [
    "def read_setup(setup_file):\n",
    "    try:\n",
    "        with open(setup_file,'r') as json_file:\n",
    "            json_data = json.load(json_file)\n",
    "            return json_data\n",
    "    except:\n",
    "        raise Exception('setup.json loading failed. Please check commas or parentheses?')\n",
    "        \n",
    "def str_to_bool(s):\n",
    "    if s == 'True':\n",
    "         return True\n",
    "    elif s == 'False':\n",
    "         return False\n",
    "    else:\n",
    "         raise ValueError(\"Cannot covert string {} to a bool.\".format(s))"
   ]
  },
  {
   "cell_type": "code",
   "execution_count": 29,
   "metadata": {
    "collapsed": false
   },
   "outputs": [],
   "source": [
    "setup_file = 'tune_config.json'\n",
    "setup=read_setup(setup_file)"
   ]
  },
  {
   "cell_type": "code",
   "execution_count": 30,
   "metadata": {
    "collapsed": false
   },
   "outputs": [
    {
     "name": "stdout",
     "output_type": "stream",
     "text": [
      "7\n",
      "142858\n",
      "[True, False, False]\n"
     ]
    }
   ],
   "source": [
    "n_cores = setup['n_cores']\n",
    "Nevents, remainder = divmod(setup['N_events'],n_cores)\n",
    "if remainder != 0:\n",
    "    Nevents +=1\n",
    "\n",
    "blocks = []\n",
    "for i in range(1,4):\n",
    "    blocks.append(str_to_bool(setup['block{}'.format(i)]))\n",
    "    \n",
    "print n_cores\n",
    "print Nevents\n",
    "print blocks"
   ]
  },
  {
   "cell_type": "code",
   "execution_count": null,
   "metadata": {
    "collapsed": true
   },
   "outputs": [],
   "source": []
  }
 ],
 "metadata": {
  "kernelspec": {
   "display_name": "Python 2",
   "language": "python",
   "name": "python2"
  },
  "language_info": {
   "codemirror_mode": {
    "name": "ipython",
    "version": 2
   },
   "file_extension": ".py",
   "mimetype": "text/x-python",
   "name": "python",
   "nbconvert_exporter": "python",
   "pygments_lexer": "ipython2",
   "version": "2.7.10"
  }
 },
 "nbformat": 4,
 "nbformat_minor": 0
}
