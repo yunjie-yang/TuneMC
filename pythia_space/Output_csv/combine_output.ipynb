{
 "cells": [
  {
   "cell_type": "code",
   "execution_count": 1,
   "metadata": {
    "collapsed": true
   },
   "outputs": [],
   "source": [
    "import numpy as np\n",
    "import csv\n",
    "from math import sqrt"
   ]
  },
  {
   "cell_type": "code",
   "execution_count": 2,
   "metadata": {
    "collapsed": false
   },
   "outputs": [],
   "source": [
    "def Get_Ratio_Error_Numbers(num,denom):\n",
    "    num=float(num)\n",
    "    denom=float(denom)\n",
    "    value = num/denom\n",
    "    error = 0.\n",
    "    if num == 0 and denom != 0:\n",
    "        error = value * sqrt(1./denom)\n",
    "    else:\n",
    "        error = value * sqrt(1./num + 1./denom)\n",
    "    return error\n",
    "\n",
    "def check_one_percent(error,value):\n",
    "    if error/value <= 0.01:\n",
    "        return value*0.01\n",
    "    else:\n",
    "        return error\n",
    "\n",
    "def compute_chi2(o_value,o_error,t_value,t_error):\n",
    "    error2 = o_error**2 + t_error**2\n",
    "    if error2 != 0:\n",
    "        return (o_value-t_value)**2/error2\n",
    "    else:\n",
    "        return 0"
   ]
  },
  {
   "cell_type": "code",
   "execution_count": 3,
   "metadata": {
    "collapsed": false
   },
   "outputs": [],
   "source": [
    "def combine_output(n_cores,bin_widths,outputFile_bin_contents,outputFile_bin_errors):\n",
    "    input_files = []\n",
    "    for i_job in range(n_cores):\n",
    "        input_files.append('out_bin_content_{}.csv'.format(i_job))\n",
    "        \n",
    "    combined_bin_content = []\n",
    "    \n",
    "    for index,iFile in enumerate(input_files):\n",
    "        with open(iFile, 'rb') as f:\n",
    "            reader = csv.reader(f)\n",
    "            data_list = []\n",
    "            for row in reader:\n",
    "                data_list.append([int(i) for i in row])\n",
    "            data_array = np.array(data_list)\n",
    "        if index == 0:\n",
    "            combined_bin_content = data_array.copy()\n",
    "        else:\n",
    "            for irow, row in enumerate(combined_bin_content):\n",
    "                combined_bin_content[irow] = np.add(row,data_array[irow])\n",
    "    \n",
    "    output_bin_contents = []\n",
    "    output_bin_errors   = []\n",
    "    \n",
    "    for ihist, hist in enumerate(combined_bin_content):\n",
    "        content_row = []\n",
    "        error_row = []\n",
    "        row_sum = 0\n",
    "        \n",
    "        for ibin in range(1,len(hist)-1):\n",
    "            row_sum += bin_widths[ihist]*hist[ibin]\n",
    "        \n",
    "        for ibin in range(1,len(hist)-1):\n",
    "            content = hist[ibin]/row_sum\n",
    "            content_row.append(content)\n",
    "            error = Get_Ratio_Error_Numbers(hist[ibin],row_sum)\n",
    "            error_row.append(error)\n",
    "            \n",
    "        output_bin_contents.append(content_row)            \n",
    "        output_bin_errors.append(error_row)\n",
    "    \n",
    "    content_file = open(outputFile_bin_contents,'w')\n",
    "    content_file_writer = csv.writer(content_file,delimiter =',',\n",
    "                                     quotechar=\" \",lineterminator=\"\\n\",quoting=csv.QUOTE_ALL)\n",
    "    error_file = open(outputFile_bin_errors,'w')\n",
    "    error_file_writer = csv.writer(error_file,delimiter =',',\n",
    "                                   quotechar=\" \",lineterminator=\"\\n\",quoting=csv.QUOTE_ALL)\n",
    "    \n",
    "    for ihist in range(len(output_bin_contents)):\n",
    "        #print \"ihist = \",ihist+1\n",
    "        content_file_writer.writerow(output_bin_contents[ihist])\n",
    "        error_file_writer.writerow(output_bin_errors[ihist])\n",
    "        #for ibin in range(len(output_bin_contents[ihist])):\n",
    "        #    print output_bin_contents[ihist][ibin],output_bin_errors[ihist][ibin]\n",
    "    \n",
    "    content_file.close()\n",
    "    error_file.close()\n",
    "    "
   ]
  },
  {
   "cell_type": "code",
   "execution_count": 4,
   "metadata": {
    "collapsed": true
   },
   "outputs": [],
   "source": [
    "def get_chi2(object_contents,object_errors,tune_contents,tune_errors):\n",
    "    \n",
    "    input_files = [object_contents,object_errors,tune_contents,tune_errors]\n",
    "    \n",
    "    lists = []\n",
    "    \n",
    "    for index,iFile in enumerate(input_files):\n",
    "        with open(iFile, 'rb') as f:\n",
    "            reader = csv.reader(f)\n",
    "            data_list = []\n",
    "            for row in reader:\n",
    "                data_list.append([float(i) for i in row])\n",
    "            lists.append(np.array(data_list))\n",
    "    \n",
    "    sum_chi2 = 0\n",
    "    \n",
    "    for ihist in range(len(lists[0])):\n",
    "        \n",
    "        ihist_chi2 = 0\n",
    "        \n",
    "        for ibin in range(len(lists[0][ihist])):\n",
    "            o_value = lists[0][ihist][ibin]\n",
    "            o_error = lists[1][ihist][ibin]\n",
    "            t_value = lists[2][ihist][ibin]\n",
    "            t_error = lists[3][ihist][ibin]\n",
    "            \n",
    "            o_error = check_one_percent(o_error,o_value)\n",
    "            t_error = check_one_percent(t_error,t_value)\n",
    "            \n",
    "            chi2 = compute_chi2(o_value,o_error,t_value,t_error)\n",
    "            \n",
    "            ihist_chi2 += chi2\n",
    "\n",
    "            \n",
    "        sum_chi2 += ihist_chi2\n",
    "    \n",
    "    \n",
    "    return sum_chi2"
   ]
  },
  {
   "cell_type": "code",
   "execution_count": 5,
   "metadata": {
    "collapsed": false
   },
   "outputs": [
    {
     "name": "stdout",
     "output_type": "stream",
     "text": [
      "77.9822457581\n"
     ]
    }
   ],
   "source": [
    "bin_widths = [0.025,0.025,0.05,0.05,0.032,0.032,0.015,0.015,0.02,0.02]\n",
    "outputFile_bin_contents = 'output_bin_contents.csv'\n",
    "outputFile_bin_errors   = 'output_bin_errors.csv'\n",
    "\n",
    "object_contents = 'output_bin_contents_Monash.csv'\n",
    "object_errors   = 'output_bin_errors_Monash.csv'\n",
    "\n",
    "tune_contents   = 'output_bin_contents.csv'\n",
    "tune_errors     = 'output_bin_errors.csv'\n",
    "\n",
    "combine_output(7,bin_widths,outputFile_bin_contents,outputFile_bin_errors)\n",
    "print get_chi2(object_contents,object_errors,tune_contents,tune_errors)"
   ]
  },
  {
   "cell_type": "code",
   "execution_count": null,
   "metadata": {
    "collapsed": true
   },
   "outputs": [],
   "source": []
  }
 ],
 "metadata": {
  "kernelspec": {
   "display_name": "Python 2",
   "language": "python",
   "name": "python2"
  },
  "language_info": {
   "codemirror_mode": {
    "name": "ipython",
    "version": 2
   },
   "file_extension": ".py",
   "mimetype": "text/x-python",
   "name": "python",
   "nbconvert_exporter": "python",
   "pygments_lexer": "ipython2",
   "version": "2.7.10"
  }
 },
 "nbformat": 4,
 "nbformat_minor": 0
}
