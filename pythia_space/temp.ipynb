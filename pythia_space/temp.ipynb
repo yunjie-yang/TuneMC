{
 "cells": [
  {
   "cell_type": "code",
   "execution_count": 114,
   "metadata": {
    "collapsed": false
   },
   "outputs": [],
   "source": [
    "import os\n",
    "WorkHOME = '/Users/Yunjie/Documents/TuneMC'\n",
    "os.environ['WorkHOME']=WorkHOME\n",
    "from pythia_functions import MultiProc_Gen\n",
    "import csv\n",
    "import numpy as np\n",
    "from math import sqrt\n",
    "import json"
   ]
  },
  {
   "cell_type": "code",
   "execution_count": 115,
   "metadata": {
    "collapsed": false
   },
   "outputs": [
    {
     "name": "stdout",
     "output_type": "stream",
     "text": [
      "/Users/Yunjie/Documents/TuneMC/pythia_space/pythia_gen 0 1428572 /Users/Yunjie/Documents/TuneMC/pythia_space/pythia_input.txt /Users/Yunjie/Documents/TuneMC/pythia_space/Output_csv/out_bin_content_0.csv > /Users/Yunjie/Documents/TuneMC/pythia_space/Output_text/Output_0.txt 2>&1\n",
      "/Users/Yunjie/Documents/TuneMC/pythia_space/pythia_gen 1 1428572 /Users/Yunjie/Documents/TuneMC/pythia_space/pythia_input.txt /Users/Yunjie/Documents/TuneMC/pythia_space/Output_csv/out_bin_content_1.csv > /Users/Yunjie/Documents/TuneMC/pythia_space/Output_text/Output_1.txt 2>&1\n",
      "/Users/Yunjie/Documents/TuneMC/pythia_space/pythia_gen 2 1428572 /Users/Yunjie/Documents/TuneMC/pythia_space/pythia_input.txt /Users/Yunjie/Documents/TuneMC/pythia_space/Output_csv/out_bin_content_2.csv > /Users/Yunjie/Documents/TuneMC/pythia_space/Output_text/Output_2.txt 2>&1\n",
      "/Users/Yunjie/Documents/TuneMC/pythia_space/pythia_gen 3 1428572 /Users/Yunjie/Documents/TuneMC/pythia_space/pythia_input.txt /Users/Yunjie/Documents/TuneMC/pythia_space/Output_csv/out_bin_content_3.csv > /Users/Yunjie/Documents/TuneMC/pythia_space/Output_text/Output_3.txt 2>&1\n",
      "/Users/Yunjie/Documents/TuneMC/pythia_space/pythia_gen 4 1428572 /Users/Yunjie/Documents/TuneMC/pythia_space/pythia_input.txt /Users/Yunjie/Documents/TuneMC/pythia_space/Output_csv/out_bin_content_4.csv > /Users/Yunjie/Documents/TuneMC/pythia_space/Output_text/Output_4.txt 2>&1\n",
      "/Users/Yunjie/Documents/TuneMC/pythia_space/pythia_gen 5 1428572 /Users/Yunjie/Documents/TuneMC/pythia_space/pythia_input.txt /Users/Yunjie/Documents/TuneMC/pythia_space/Output_csv/out_bin_content_5.csv > /Users/Yunjie/Documents/TuneMC/pythia_space/Output_text/Output_5.txt 2>&1\n",
      "/Users/Yunjie/Documents/TuneMC/pythia_space/pythia_gen 6 1428572 /Users/Yunjie/Documents/TuneMC/pythia_space/pythia_input.txt /Users/Yunjie/Documents/TuneMC/pythia_space/Output_csv/out_bin_content_6.csv > /Users/Yunjie/Documents/TuneMC/pythia_space/Output_text/Output_6.txt 2>&1\n"
     ]
    }
   ],
   "source": [
    "MultiProc_Gen(7,1428572,WorkHOME)"
   ]
  },
  {
   "cell_type": "code",
   "execution_count": 127,
   "metadata": {
    "collapsed": true
   },
   "outputs": [],
   "source": [
    "def combine_output(n_cores,csv_Dir,bin_widths_block1,bin_widths_block2,outputFile_bin_contents,outputFile_bin_errors):\n",
    "    input_files = []\n",
    "    for i_job in range(n_cores):\n",
    "        input_files.append('{}/out_bin_content_{}.csv'.format(csv_Dir,i_job))\n",
    "\n",
    "    combined_bin_content = []\n",
    "\n",
    "    for index,iFile in enumerate(input_files):\n",
    "        with open(iFile, 'rb') as f:\n",
    "            reader = csv.reader(f)\n",
    "            data_list = []\n",
    "            for row in reader:\n",
    "                data_list.append([float(i) for i in row])\n",
    "            data_array = np.array(data_list)\n",
    "        if index == 0:\n",
    "            combined_bin_content = data_array.copy()\n",
    "        else:\n",
    "            for irow, row in enumerate(combined_bin_content):\n",
    "                combined_bin_content[irow] = np.add(row,data_array[irow])\n",
    "\n",
    "    output_bin_contents = []\n",
    "    output_bin_errors   = []\n",
    "\n",
    "    N_total   = 0\n",
    "    N_udsc    = 0\n",
    "    N_bTagged = 0\n",
    "    \n",
    "    #first 10: block1\n",
    "    for ihist, hist in enumerate(combined_bin_content[0:10]):\n",
    "        content_row = []\n",
    "        error_row = []\n",
    "        row_sum = 0\n",
    "        \n",
    "        if ihist == 0:\n",
    "            for ibin in hist:\n",
    "                N_total += ibin\n",
    "                N_udsc  += ibin\n",
    "\n",
    "        if ihist == 1:\n",
    "            for ibin in hist:\n",
    "                N_total   += ibin\n",
    "                N_bTagged += ibin\n",
    "\n",
    "        for ibin in range(1,len(hist)-1):\n",
    "            row_sum += bin_widths_block1[ihist]*hist[ibin]\n",
    "        \n",
    "        bin_by_bin_normalize(combined_bin_content[ihist],row_sum,output_bin_contents,output_bin_errors)\n",
    "    \n",
    "    #next 6: block2\n",
    "    print 'N_total   = ', N_total\n",
    "    print 'N_udsc    = ', N_udsc\n",
    "    print 'N_bTagged = ', N_bTagged\n",
    "    \n",
    "    bin_by_bin_normalize(combined_bin_content[10],float(N_udsc),output_bin_contents,output_bin_errors)\n",
    "    bin_by_bin_normalize(combined_bin_content[11],float(N_bTagged),output_bin_contents,output_bin_errors)\n",
    "        \n",
    "    for ihist,hist in enumerate(combined_bin_content[12:16]):\n",
    "        row_sum = 0\n",
    "        \n",
    "        for ibin in range(1,len(hist)-1):\n",
    "            row_sum += bin_widths_block2[ihist]*hist[ibin]\n",
    "        \n",
    "        bin_by_bin_normalize(combined_bin_content[ihist+12],row_sum,output_bin_contents,output_bin_errors)\n",
    "\n",
    "    \n",
    "    #final 4: block3\n",
    "    nCh_total = float(combined_bin_content[20][0])   \n",
    "    \n",
    "    #mesons\n",
    "    mesons_content_row = []\n",
    "    mesons_error_row   = []\n",
    "    for ibin in combined_bin_content[16]:\n",
    "        mesons_content_row.append(ibin/nCh_total)\n",
    "        mesons_error_row.append(Get_Ratio_Error_Numbers(ibin,nCh_total))\n",
    "    \n",
    "    n_pi    = float(combined_bin_content[16][0])\n",
    "    n_K     = float(combined_bin_content[16][2])\n",
    "    n_Kstar = float(combined_bin_content[16][7])\n",
    "    n_phi   = float(combined_bin_content[16][9])\n",
    "    \n",
    "    mesons_content_row.append(n_Kstar/n_K)\n",
    "    mesons_error_row.append(Get_Ratio_Error_Numbers(n_Kstar,n_K))\n",
    "    \n",
    "    mesons_content_row.append(n_phi/n_Kstar)\n",
    "    mesons_error_row.append(Get_Ratio_Error_Numbers(n_phi,n_Kstar))\n",
    "\n",
    "    mesons_content_row.append(n_phi/n_K)\n",
    "    mesons_error_row.append(Get_Ratio_Error_Numbers(n_phi,n_K))\n",
    "\n",
    "    mesons_content_row.append(n_phi/n_pi)\n",
    "    mesons_error_row.append(Get_Ratio_Error_Numbers(n_phi,n_pi))\n",
    "            \n",
    "    output_bin_contents.append(mesons_content_row)\n",
    "    output_bin_errors.append(mesons_error_row)\n",
    "    \n",
    "    #baryons\n",
    "    baryons_content_row = []\n",
    "    baryons_error_row   = []\n",
    "\n",
    "    for ibin in combined_bin_content[17]:\n",
    "        baryons_content_row.append(ibin/nCh_total)\n",
    "        baryons_error_row.append(Get_Ratio_Error_Numbers(ibin,nCh_total))\n",
    "\n",
    "    n_p      = float(combined_bin_content[17][0])\n",
    "    n_Lambda = float(combined_bin_content[17][1])\n",
    "    \n",
    "    baryons_content_row.insert(2,n_Lambda/n_p)\n",
    "    baryons_error_row.insert(2,Get_Ratio_Error_Numbers(n_Lambda,n_p))\n",
    "    \n",
    "    baryons_content_row.insert(3,n_Lambda/n_K)\n",
    "    baryons_error_row.insert(3,Get_Ratio_Error_Numbers(n_Lambda,n_K))\n",
    "\n",
    "    output_bin_contents.append(baryons_content_row)\n",
    "    output_bin_errors.append(baryons_error_row)\n",
    "    \n",
    "    #charm and beauty\n",
    "    combined_bin_content[19][7] *= 10\n",
    "    for ihist,hist in enumerate(combined_bin_content[18:20]):\n",
    "        bin_by_bin_normalize_rates(combined_bin_content[ihist+18],float(N_total),output_bin_contents,output_bin_errors)\n",
    "    \n",
    "    \n",
    "    content_file = open(outputFile_bin_contents,'w')\n",
    "    content_file_writer = csv.writer(content_file,delimiter =',',\n",
    "                                     quotechar=\" \",lineterminator=\"\\n\",quoting=csv.QUOTE_ALL)\n",
    "    error_file = open(outputFile_bin_errors,'w')\n",
    "    error_file_writer = csv.writer(error_file,delimiter =',',\n",
    "                                   quotechar=\" \",lineterminator=\"\\n\",quoting=csv.QUOTE_ALL)\n",
    "\n",
    "    for ihist in range(len(output_bin_contents)):\n",
    "        content_file_writer.writerow(output_bin_contents[ihist])\n",
    "        error_file_writer.writerow(output_bin_errors[ihist])\n",
    "\n",
    "    content_file.close()\n",
    "    error_file.close()"
   ]
  },
  {
   "cell_type": "code",
   "execution_count": 118,
   "metadata": {
    "collapsed": true
   },
   "outputs": [],
   "source": [
    "def bin_by_bin_normalize(hist,norm,output_content,output_error):\n",
    "    content_row = []\n",
    "    error_row   = []\n",
    "\n",
    "    for ibin in range(1,len(hist)-1):\n",
    "        content = hist[ibin]/norm\n",
    "        content_row.append(content)\n",
    "        error = Get_Ratio_Error_Numbers(hist[ibin],norm)\n",
    "        error_row.append(error) \n",
    "\n",
    "    output_content.append(content_row)\n",
    "    output_error.append(error_row)\n",
    "\n",
    "def bin_by_bin_normalize_rates(hist,norm,output_content,output_error):\n",
    "    content_row = []\n",
    "    error_row   = []\n",
    "\n",
    "    for ibin in range(len(hist)):\n",
    "        content = hist[ibin]/norm\n",
    "        content_row.append(content)\n",
    "        error = Get_Ratio_Error_Numbers(hist[ibin],norm)\n",
    "        error_row.append(error) \n",
    "\n",
    "    output_content.append(content_row)\n",
    "    output_error.append(error_row)"
   ]
  },
  {
   "cell_type": "code",
   "execution_count": 119,
   "metadata": {
    "collapsed": true
   },
   "outputs": [],
   "source": [
    "def Get_Ratio_Error_Numbers(num,denom):\n",
    "    num=float(num)\n",
    "    denom=float(denom)\n",
    "    value = num/denom\n",
    "    error = 0.\n",
    "    if num == 0 and denom != 0:\n",
    "        error = value * sqrt(1./denom)\n",
    "    else:\n",
    "        error = value * sqrt(1./num + 1./denom)\n",
    "    return error"
   ]
  },
  {
   "cell_type": "code",
   "execution_count": 120,
   "metadata": {
    "collapsed": true
   },
   "outputs": [],
   "source": [
    "def get_chi2(blocks,object_contents,object_errors,tune_contents,tune_errors,output_file):\n",
    "    \n",
    "    input_files = [object_contents,object_errors,tune_contents,tune_errors]\n",
    "\n",
    "    lists = []\n",
    "\n",
    "    for index,iFile in enumerate(input_files):\n",
    "        with open(iFile, 'rb') as f:\n",
    "            reader = csv.reader(f)\n",
    "            data_list = []\n",
    "            for row in reader:\n",
    "                data_list.append([float(i) for i in row])\n",
    "            lists.append(np.array(data_list))\n",
    "\n",
    "    chi2s    = []\n",
    "\n",
    "    ofile = open(output_file,'a')\n",
    "    ofile_writer = csv.writer(ofile,delimiter =',',\n",
    "                              quotechar=\" \",lineterminator=\"\\n\",quoting=csv.QUOTE_ALL)\n",
    "\n",
    "    for ihist in range(len(lists[0])):\n",
    "\n",
    "        ihist_chi2 = 0\n",
    "\n",
    "        for ibin in range(len(lists[0][ihist])):\n",
    "            o_value = lists[0][ihist][ibin]\n",
    "            o_error = lists[1][ihist][ibin]\n",
    "            t_value = lists[2][ihist][ibin]\n",
    "            t_error = lists[3][ihist][ibin]\n",
    "\n",
    "            o_error = check_one_percent(o_error,o_value)\n",
    "            t_error = check_one_percent(t_error,t_value)\n",
    "\n",
    "            chi2 = compute_chi2(o_value,o_error,t_value,t_error)\n",
    "\n",
    "            ihist_chi2 += chi2\n",
    "\n",
    "        chi2s.append(ihist_chi2)\n",
    "        \n",
    "        \n",
    "    result_chi2 = 0.\n",
    "    for index,chi2 in enumerate(chi2s):\n",
    "        if blocks[0] and index >= 0  and index < 10:\n",
    "            result_chi2 += chi2\n",
    "        if blocks[1] and index >= 10 and index < 16:\n",
    "            result_chi2 += chi2\n",
    "        if blocks[2] and index >= 16 and index < 19:\n",
    "            result_chi2 += chi2\n",
    "        \n",
    "    \n",
    "        \n",
    "    ofile_writer.writerow(chi2s)\n",
    "    ofile.close()\n",
    "\n",
    "    return result_chi2"
   ]
  },
  {
   "cell_type": "code",
   "execution_count": 121,
   "metadata": {
    "collapsed": true
   },
   "outputs": [],
   "source": [
    "def load_config(config_file):\n",
    "    try:\n",
    "        with open(config_file,'r') as json_file:\n",
    "            json_data = json.load(json_file)\n",
    "            return json_data\n",
    "    except:\n",
    "        raise Exception('json file loading failed. Please check commas or parentheses?')\n",
    "\n",
    "def str_to_bool(s):\n",
    "    if s == 'True':\n",
    "         return True\n",
    "    elif s == 'False':\n",
    "         return False\n",
    "    else:\n",
    "         raise ValueError(\"Cannot covert string {} to a bool.\".format(s))\n",
    "            \n",
    "def check_one_percent(error,value):\n",
    "\n",
    "    if value != 0.:\n",
    "        if error/value <= 0.01:\n",
    "            return value*0.01\n",
    "        else:\n",
    "            return error\n",
    "    else:\n",
    "        return error\n",
    "\n",
    "def compute_chi2(o_value,o_error,t_value,t_error):\n",
    "    error2 = o_error**2 + t_error**2\n",
    "    if error2 != 0.:\n",
    "        return (o_value-t_value)**2/error2\n",
    "    else:\n",
    "        return 0."
   ]
  },
  {
   "cell_type": "code",
   "execution_count": 122,
   "metadata": {
    "collapsed": true
   },
   "outputs": [],
   "source": [
    "bin_widths_block1 = [0.025,0.025,0.05,0.05,0.032,0.032,0.015,0.015,0.02,0.02]\n",
    "bin_widths_block2 = [0.2,0.2,0.05,0.05]"
   ]
  },
  {
   "cell_type": "code",
   "execution_count": 49,
   "metadata": {
    "collapsed": false
   },
   "outputs": [
    {
     "name": "stdout",
     "output_type": "stream",
     "text": [
      "[1, 2, 23, 4, 56]\n"
     ]
    }
   ],
   "source": [
    "Alist=[1,23,4,56]\n",
    "Alist.insert(1,2)\n",
    "print Alist"
   ]
  },
  {
   "cell_type": "code",
   "execution_count": 123,
   "metadata": {
    "collapsed": true
   },
   "outputs": [],
   "source": [
    "csv_Dir = '{}/pythia_space/Output_csv'.format(WorkHOME)\n",
    "outputFile_bin_contents = '{}/output_bin_contents.csv'.format(csv_Dir)\n",
    "outputFile_bin_errors   = '{}/output_bin_errors.csv'.format(csv_Dir)\n",
    "\n",
    "object_contents = '{}/output_bin_contents_Monash.csv'.format(csv_Dir)\n",
    "object_errors   = '{}/output_bin_errors_Monash.csv'.format(csv_Dir)\n",
    "\n",
    "tune_contents   = '{}/output_bin_contents.csv'.format(csv_Dir)\n",
    "tune_errors     = '{}/output_bin_errors.csv'.format(csv_Dir)\n",
    "\n",
    "obj_file        = '{}/interface/objectives.csv'.format(WorkHOME)"
   ]
  },
  {
   "cell_type": "code",
   "execution_count": 52,
   "metadata": {
    "collapsed": false
   },
   "outputs": [
    {
     "name": "stdout",
     "output_type": "stream",
     "text": [
      "[18, 19]\n"
     ]
    }
   ],
   "source": [
    "alist=range(22)\n",
    "print alist[18:20]"
   ]
  },
  {
   "cell_type": "code",
   "execution_count": 128,
   "metadata": {
    "collapsed": false
   },
   "outputs": [
    {
     "name": "stdout",
     "output_type": "stream",
     "text": [
      "N_total   =  10000002.0\n",
      "N_udsc    =  7793976.0\n",
      "N_bTagged =  2206026.0\n"
     ]
    }
   ],
   "source": [
    "combine_output(7,csv_Dir,bin_widths_block1,bin_widths_block2,outputFile_bin_contents,outputFile_bin_errors)"
   ]
  },
  {
   "cell_type": "code",
   "execution_count": 133,
   "metadata": {
    "collapsed": false
   },
   "outputs": [
    {
     "name": "stdout",
     "output_type": "stream",
     "text": [
      "[False, True, False]\n",
      "107.009514163\n"
     ]
    }
   ],
   "source": [
    "config=load_config('{}/tune_config.json'.format(WorkHOME))\n",
    "\n",
    "blocks = []\n",
    "for i in range(1,4):\n",
    "    blocks.append(str_to_bool(config['block{}'.format(i)]))\n",
    "\n",
    "print blocks\n",
    "\n",
    "if os.path.exists(obj_file):\n",
    "    os.remove(obj_file)\n",
    "\n",
    "chi2 = get_chi2(blocks,object_contents,object_errors,tune_contents,tune_errors,obj_file)\n",
    "print chi2"
   ]
  },
  {
   "cell_type": "code",
   "execution_count": 134,
   "metadata": {
    "collapsed": false
   },
   "outputs": [],
   "source": [
    "    spectra_names_block1  =  [\"hThrusts_udsc\", \"hThrusts_b\",\n",
    "                              \"hC_param_udsc\", \"hC_param_b\",\n",
    "                              \"hD_param_udsc\", \"hD_param_b\",\n",
    "                              \"hB_W_udsc\",\"hB_W_b\",\n",
    "                              \"hB_T_udsc\",\"hB_T_b\"]\n",
    "\n",
    "    spectra_names_block2  =  [\"hChargeMulti_udsc\",\"hChargeMulti_b\",\n",
    "                              \"hMomentFrac_udsc\",\"hMomentFrac_b\",\n",
    "                              \"hMomentFrac_Dstar\",\"hMomentFrac_bWeak\"]\n",
    "\n",
    "    spectra_names_block3  =  [\"hMesonFrac\",\"hBaryonFrac\",\n",
    "                              \"hCharmRates\",\"hBeautyRates\"]\n",
    "\n",
    "    spectra = [spectra_names_block1,spectra_names_block2,spectra_names_block3]\n",
    "\n",
    "    spectra_names = []\n",
    "\n",
    "    for index,block in enumerate(blocks):\n",
    "        if block:\n",
    "            spectra_names += spectra[index]"
   ]
  },
  {
   "cell_type": "code",
   "execution_count": 135,
   "metadata": {
    "collapsed": false
   },
   "outputs": [
    {
     "name": "stdout",
     "output_type": "stream",
     "text": [
      "['hChargeMulti_udsc', 'hChargeMulti_b', 'hMomentFrac_udsc', 'hMomentFrac_b', 'hMomentFrac_Dstar', 'hMomentFrac_bWeak']\n"
     ]
    }
   ],
   "source": [
    "print spectra_names"
   ]
  },
  {
   "cell_type": "code",
   "execution_count": 173,
   "metadata": {
    "collapsed": false
   },
   "outputs": [],
   "source": [
    "Spearmint_output_FILE='{}/interface/spearmint_output.txt'.format(WorkHOME)\n",
    "\n",
    "param_index = 0\n",
    "inFile = open(Spearmint_output_FILE)\n",
    "lines = list(inFile)\n",
    "inFile.seek(0)\n",
    "\n",
    "\n",
    "def find_order():\n",
    "    \n",
    "    param_order = []\n",
    "    with open('{}/pythia_space/pars_to_tune.txt'.format(WorkHOME),'r') as parsList:\n",
    "        param_names = parsList.read().splitlines()\n",
    "        \n",
    "    print param_names\n",
    "    \n",
    "    found = False\n",
    "    index = 0\n",
    "    \n",
    "    while not found:\n",
    "        line = lines[index]\n",
    "        lo_index = line.find(\"Minimum expected objective value under model is\")\n",
    "        str_len  = len(\"Minimum expected objective value under model is\")\n",
    "        up_index = line.find(\"(+/-\")\n",
    "        \n",
    "        if lo_index != -1 and up_index !=-1:\n",
    "                current_param_index = index+3\n",
    "                value_start_index=lines[current_param_index-1].find(\"----\")\n",
    "                value_end_index = value_start_index+13\n",
    "                for ind,line in enumerate(lines[current_param_index:current_param_index+len(param_names)]): \n",
    "                    string = str(line[value_start_index:value_end_index])\n",
    "                    string = string.replace(\" \",\"\")\n",
    "                    for param in param_names:\n",
    "                        if string in param:\n",
    "                            param_order.append(param)\n",
    "                found = True\n",
    "                    \n",
    "        index += 1\n",
    "        \n",
    "    return param_order"
   ]
  },
  {
   "cell_type": "code",
   "execution_count": 181,
   "metadata": {
    "collapsed": true
   },
   "outputs": [],
   "source": [
    "all_pars_dict = load_config('{}/utils/all_pars_dict.json'.format(WorkHOME))\n",
    "\n",
    "def get_MonashValues():\n",
    "    with open('{}/pythia_space/pars_to_tune.txt'.format(WorkHOME),'r') as parsList:\n",
    "        param_names = parsList.read().splitlines()\n",
    "        \n",
    "    values =[]\n",
    "    \n",
    "    for par in param_names:\n",
    "        values.append(all_pars_dict[par]['Monash'])\n",
    "        \n",
    "    return values\n",
    "\n",
    "def get_ranges():\n",
    "    with open('{}/pythia_space/pars_to_tune.txt'.format(WorkHOME),'r') as parsList:\n",
    "        param_names = parsList.read().splitlines()\n",
    "    \n",
    "    param_ranges = []\n",
    "    for par in param_names:\n",
    "        param_ranges.append((all_pars_dict[par]['min'],all_pars_dict[par]['max']))\n",
    "    return param_ranges"
   ]
  },
  {
   "cell_type": "code",
   "execution_count": 182,
   "metadata": {
    "collapsed": false
   },
   "outputs": [
    {
     "name": "stdout",
     "output_type": "stream",
     "text": [
      "['rFactC', 'bLund', 'rFactB', 'aExtraSQuark', 'sigma', 'aExtraDiquark']\n",
      "16\n",
      "29\n",
      "33\n",
      "['rFactB', 'rFactC', 'bLund', 'aExtraSQuark', 'sigma', 'aExtraDiquark']\n",
      "[1.32, 0.98, 0.855, 0.0, 0.335, 0.97]\n",
      "[(0.0, 2.0), (0.2, 2.0), (0.0, 2.0), (0.0, 2.0), (0.0, 1.0), (0.0, 2.0)]\n"
     ]
    }
   ],
   "source": [
    "param_order = find_order()\n",
    "print param_order\n",
    "MonashValues = get_MonashValues()\n",
    "print MonashValues\n",
    "param_ranges = get_ranges()\n",
    "print param_ranges"
   ]
  },
  {
   "cell_type": "code",
   "execution_count": 185,
   "metadata": {
    "collapsed": false
   },
   "outputs": [
    {
     "name": "stdout",
     "output_type": "stream",
     "text": [
      "3 2 3 2\n"
     ]
    }
   ],
   "source": [
    "blocks = [False,True,False]\n",
    "\n",
    "def nRows_nCols(blocks):\n",
    "    if blocks == [True,False,False]:\n",
    "        return 3,1,5,2\n",
    "\n",
    "    elif blocks == [False,True,False]:\n",
    "        return 3,2,3,2\n",
    "    \n",
    "    elif blocks == [False,False,True]:\n",
    "        return 4,3,2,2\n",
    "    else:\n",
    "        return 5,4,5,4\n",
    "    \n",
    "param_nRows,param_nCols,spectra_nRows,spectra_nCols = nRows_nCols(blocks)\n",
    "print param_nRows,param_nCols,spectra_nRows,spectra_nCols\n",
    "\n"
   ]
  },
  {
   "cell_type": "code",
   "execution_count": null,
   "metadata": {
    "collapsed": true
   },
   "outputs": [],
   "source": []
  }
 ],
 "metadata": {
  "kernelspec": {
   "display_name": "Python 2",
   "language": "python",
   "name": "python2"
  },
  "language_info": {
   "codemirror_mode": {
    "name": "ipython",
    "version": 2
   },
   "file_extension": ".py",
   "mimetype": "text/x-python",
   "name": "python",
   "nbconvert_exporter": "python",
   "pygments_lexer": "ipython2",
   "version": "2.7.10"
  }
 },
 "nbformat": 4,
 "nbformat_minor": 0
}
