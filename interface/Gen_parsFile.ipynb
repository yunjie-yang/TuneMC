{
 "cells": [
  {
   "cell_type": "code",
   "execution_count": 17,
   "metadata": {
    "collapsed": true
   },
   "outputs": [],
   "source": [
    "import os\n",
    "import numpy as np\n",
    "import csv"
   ]
  },
  {
   "cell_type": "code",
   "execution_count": 18,
   "metadata": {
    "collapsed": false
   },
   "outputs": [],
   "source": [
    "def gen_parsFile(inputFile,outputDir):\n",
    "    \n",
    "    with open(inputFile, 'rb') as f:\n",
    "        reader = csv.reader(f)\n",
    "        pars = []\n",
    "        for row in reader:\n",
    "            pars.append([float(i) for i in row])\n",
    "        pars = np.squeeze(pars)\n",
    "    \n",
    "    outputFile = '{}/parsFile.txt'.format(outputDir)\n",
    "    \n",
    "    if os.path.exists(outputFile):\n",
    "        os.remove(outputFile)\n",
    "    \n",
    "    output = open(outputFile,'a')\n",
    "    \n",
    "    basic_info = [\n",
    "        \"Tune:ee = 7\",\n",
    "        \"Beams:idA = 11\",\n",
    "        \"Beams:idB = -11\",\n",
    "        \"Beams:eCM = 91.2\",\n",
    "        \"WeakSingleBoson:ffbar2gmZ = on\",\n",
    "        \"23:onMode = off\",\n",
    "        \"23:onIfMatch = 1 -1\",\n",
    "        \"23:onIfMatch = 2 -2\",\n",
    "        \"23:onIfMatch = 3 -3\",\n",
    "        \"23:onIfMatch = 4 -4\",\n",
    "        \"23:onIfMatch = 5 -5\"\n",
    "    ]\n",
    "    \n",
    "    for info_line in basic_info:\n",
    "        output.write(\"{}\\n\".format(info_line))\n",
    "\n",
    "    par_names = [\n",
    "        \"TimeShower:alphaSvalue\",\n",
    "        \"TimeShower:pTmin\",\n",
    "        \"TimeShower:pTminChgQ\"\n",
    "    ]\n",
    "        \n",
    "    for index, par in enumerate(pars):\n",
    "        output.write(\"{} = {}\\n\".format(par_names[index],par))\n",
    "        \n",
    "    output.close()\n",
    "    \n",
    "    print pars"
   ]
  },
  {
   "cell_type": "code",
   "execution_count": 19,
   "metadata": {
    "collapsed": false
   },
   "outputs": [
    {
     "name": "stdout",
     "output_type": "stream",
     "text": [
      "[ 0.1365  0.35    0.5   ]\n"
     ]
    }
   ],
   "source": [
    "inputFile = 'next_point_to_sample.csv'\n",
    "outputDir = '/Users/Yunjie/Documents/TuneMC/pythia_space'\n",
    "\n",
    "gen_parsFile(inputFile,outputDir)"
   ]
  },
  {
   "cell_type": "code",
   "execution_count": null,
   "metadata": {
    "collapsed": true
   },
   "outputs": [],
   "source": []
  }
 ],
 "metadata": {
  "kernelspec": {
   "display_name": "Python 2",
   "language": "python",
   "name": "python2"
  },
  "language_info": {
   "codemirror_mode": {
    "name": "ipython",
    "version": 2
   },
   "file_extension": ".py",
   "mimetype": "text/x-python",
   "name": "python",
   "nbconvert_exporter": "python",
   "pygments_lexer": "ipython2",
   "version": "2.7.10"
  }
 },
 "nbformat": 4,
 "nbformat_minor": 0
}
